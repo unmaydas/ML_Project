{
 "cells": [
  {
   "cell_type": "code",
   "execution_count": 66,
   "metadata": {},
   "outputs": [],
   "source": [
    "import pandas as pd\n",
    "import numpy as np\n",
    "import matplotlib.pyplot as plt\n",
    "import seaborn as sns"
   ]
  },
  {
   "cell_type": "code",
   "execution_count": 67,
   "metadata": {},
   "outputs": [
    {
     "name": "stdout",
     "output_type": "stream",
     "text": [
      "      longitude  latitude  housing_median_age  total_rooms  total_bedrooms  \\\n",
      "0       -122.05     37.37                27.0       3885.0           661.0   \n",
      "1       -118.30     34.26                43.0       1510.0           310.0   \n",
      "2       -117.81     33.78                27.0       3589.0           507.0   \n",
      "3       -118.36     33.82                28.0         67.0            15.0   \n",
      "4       -119.67     36.33                19.0       1241.0           244.0   \n",
      "...         ...       ...                 ...          ...             ...   \n",
      "2995    -119.86     34.42                23.0       1450.0           642.0   \n",
      "2996    -118.14     34.06                27.0       5257.0          1082.0   \n",
      "2997    -119.70     36.30                10.0        956.0           201.0   \n",
      "2998    -117.12     34.10                40.0         96.0            14.0   \n",
      "2999    -119.63     34.42                42.0       1765.0           263.0   \n",
      "\n",
      "      population  households  median_income  median_house_value  \n",
      "0         1537.0       606.0         6.6085            344700.0  \n",
      "1          809.0       277.0         3.5990            176500.0  \n",
      "2         1484.0       495.0         5.7934            270500.0  \n",
      "3           49.0        11.0         6.1359            330000.0  \n",
      "4          850.0       237.0         2.9375             81700.0  \n",
      "...          ...         ...            ...                 ...  \n",
      "2995      1258.0       607.0         1.1790            225000.0  \n",
      "2996      3496.0      1036.0         3.3906            237200.0  \n",
      "2997       693.0       220.0         2.2895             62000.0  \n",
      "2998        46.0        14.0         3.2708            162500.0  \n",
      "2999       753.0       260.0         8.5608            500001.0  \n",
      "\n",
      "[3000 rows x 9 columns]\n"
     ]
    }
   ],
   "source": [
    "df=pd.read_csv(\"C:/Users/LENOVO/Desktop/Jupiter/NPTEL_ML/california_housing_test.csv\")\n",
    "print(df)"
   ]
  },
  {
   "cell_type": "code",
   "execution_count": 68,
   "metadata": {},
   "outputs": [
    {
     "data": {
      "text/html": [
       "<div>\n",
       "<style scoped>\n",
       "    .dataframe tbody tr th:only-of-type {\n",
       "        vertical-align: middle;\n",
       "    }\n",
       "\n",
       "    .dataframe tbody tr th {\n",
       "        vertical-align: top;\n",
       "    }\n",
       "\n",
       "    .dataframe thead th {\n",
       "        text-align: right;\n",
       "    }\n",
       "</style>\n",
       "<table border=\"1\" class=\"dataframe\">\n",
       "  <thead>\n",
       "    <tr style=\"text-align: right;\">\n",
       "      <th></th>\n",
       "      <th>longitude</th>\n",
       "      <th>latitude</th>\n",
       "      <th>housing_median_age</th>\n",
       "      <th>total_rooms</th>\n",
       "      <th>total_bedrooms</th>\n",
       "      <th>population</th>\n",
       "      <th>households</th>\n",
       "      <th>median_income</th>\n",
       "      <th>median_house_value</th>\n",
       "    </tr>\n",
       "  </thead>\n",
       "  <tbody>\n",
       "    <tr>\n",
       "      <th>longitude</th>\n",
       "      <td>1.000000</td>\n",
       "      <td>-0.925017</td>\n",
       "      <td>-0.064203</td>\n",
       "      <td>0.049865</td>\n",
       "      <td>0.070869</td>\n",
       "      <td>0.111572</td>\n",
       "      <td>0.051062</td>\n",
       "      <td>-0.018701</td>\n",
       "      <td>-0.050662</td>\n",
       "    </tr>\n",
       "    <tr>\n",
       "      <th>latitude</th>\n",
       "      <td>-0.925017</td>\n",
       "      <td>1.000000</td>\n",
       "      <td>-0.025143</td>\n",
       "      <td>-0.039632</td>\n",
       "      <td>-0.068245</td>\n",
       "      <td>-0.117318</td>\n",
       "      <td>-0.068296</td>\n",
       "      <td>-0.072363</td>\n",
       "      <td>-0.138428</td>\n",
       "    </tr>\n",
       "    <tr>\n",
       "      <th>housing_median_age</th>\n",
       "      <td>-0.064203</td>\n",
       "      <td>-0.025143</td>\n",
       "      <td>1.000000</td>\n",
       "      <td>-0.367850</td>\n",
       "      <td>-0.323154</td>\n",
       "      <td>-0.299888</td>\n",
       "      <td>-0.305171</td>\n",
       "      <td>-0.144315</td>\n",
       "      <td>0.091409</td>\n",
       "    </tr>\n",
       "    <tr>\n",
       "      <th>total_rooms</th>\n",
       "      <td>0.049865</td>\n",
       "      <td>-0.039632</td>\n",
       "      <td>-0.367850</td>\n",
       "      <td>1.000000</td>\n",
       "      <td>0.937749</td>\n",
       "      <td>0.838867</td>\n",
       "      <td>0.914116</td>\n",
       "      <td>0.221249</td>\n",
       "      <td>0.160427</td>\n",
       "    </tr>\n",
       "    <tr>\n",
       "      <th>total_bedrooms</th>\n",
       "      <td>0.070869</td>\n",
       "      <td>-0.068245</td>\n",
       "      <td>-0.323154</td>\n",
       "      <td>0.937749</td>\n",
       "      <td>1.000000</td>\n",
       "      <td>0.856387</td>\n",
       "      <td>0.970758</td>\n",
       "      <td>0.024025</td>\n",
       "      <td>0.082279</td>\n",
       "    </tr>\n",
       "    <tr>\n",
       "      <th>population</th>\n",
       "      <td>0.111572</td>\n",
       "      <td>-0.117318</td>\n",
       "      <td>-0.299888</td>\n",
       "      <td>0.838867</td>\n",
       "      <td>0.856387</td>\n",
       "      <td>1.000000</td>\n",
       "      <td>0.895530</td>\n",
       "      <td>0.032361</td>\n",
       "      <td>-0.001192</td>\n",
       "    </tr>\n",
       "    <tr>\n",
       "      <th>households</th>\n",
       "      <td>0.051062</td>\n",
       "      <td>-0.068296</td>\n",
       "      <td>-0.305171</td>\n",
       "      <td>0.914116</td>\n",
       "      <td>0.970758</td>\n",
       "      <td>0.895530</td>\n",
       "      <td>1.000000</td>\n",
       "      <td>0.048625</td>\n",
       "      <td>0.100176</td>\n",
       "    </tr>\n",
       "    <tr>\n",
       "      <th>median_income</th>\n",
       "      <td>-0.018701</td>\n",
       "      <td>-0.072363</td>\n",
       "      <td>-0.144315</td>\n",
       "      <td>0.221249</td>\n",
       "      <td>0.024025</td>\n",
       "      <td>0.032361</td>\n",
       "      <td>0.048625</td>\n",
       "      <td>1.000000</td>\n",
       "      <td>0.672695</td>\n",
       "    </tr>\n",
       "    <tr>\n",
       "      <th>median_house_value</th>\n",
       "      <td>-0.050662</td>\n",
       "      <td>-0.138428</td>\n",
       "      <td>0.091409</td>\n",
       "      <td>0.160427</td>\n",
       "      <td>0.082279</td>\n",
       "      <td>-0.001192</td>\n",
       "      <td>0.100176</td>\n",
       "      <td>0.672695</td>\n",
       "      <td>1.000000</td>\n",
       "    </tr>\n",
       "  </tbody>\n",
       "</table>\n",
       "</div>"
      ],
      "text/plain": [
       "                    longitude  latitude  housing_median_age  total_rooms  \\\n",
       "longitude            1.000000 -0.925017           -0.064203     0.049865   \n",
       "latitude            -0.925017  1.000000           -0.025143    -0.039632   \n",
       "housing_median_age  -0.064203 -0.025143            1.000000    -0.367850   \n",
       "total_rooms          0.049865 -0.039632           -0.367850     1.000000   \n",
       "total_bedrooms       0.070869 -0.068245           -0.323154     0.937749   \n",
       "population           0.111572 -0.117318           -0.299888     0.838867   \n",
       "households           0.051062 -0.068296           -0.305171     0.914116   \n",
       "median_income       -0.018701 -0.072363           -0.144315     0.221249   \n",
       "median_house_value  -0.050662 -0.138428            0.091409     0.160427   \n",
       "\n",
       "                    total_bedrooms  population  households  median_income  \\\n",
       "longitude                 0.070869    0.111572    0.051062      -0.018701   \n",
       "latitude                 -0.068245   -0.117318   -0.068296      -0.072363   \n",
       "housing_median_age       -0.323154   -0.299888   -0.305171      -0.144315   \n",
       "total_rooms               0.937749    0.838867    0.914116       0.221249   \n",
       "total_bedrooms            1.000000    0.856387    0.970758       0.024025   \n",
       "population                0.856387    1.000000    0.895530       0.032361   \n",
       "households                0.970758    0.895530    1.000000       0.048625   \n",
       "median_income             0.024025    0.032361    0.048625       1.000000   \n",
       "median_house_value        0.082279   -0.001192    0.100176       0.672695   \n",
       "\n",
       "                    median_house_value  \n",
       "longitude                    -0.050662  \n",
       "latitude                     -0.138428  \n",
       "housing_median_age            0.091409  \n",
       "total_rooms                   0.160427  \n",
       "total_bedrooms                0.082279  \n",
       "population                   -0.001192  \n",
       "households                    0.100176  \n",
       "median_income                 0.672695  \n",
       "median_house_value            1.000000  "
      ]
     },
     "execution_count": 68,
     "metadata": {},
     "output_type": "execute_result"
    }
   ],
   "source": [
    "corr_mat=df.corr(method=\"pearson\")\n",
    "corr_mat"
   ]
  },
  {
   "cell_type": "code",
   "execution_count": 69,
   "metadata": {},
   "outputs": [
    {
     "data": {
      "text/plain": [
       "<Axes: >"
      ]
     },
     "execution_count": 69,
     "metadata": {},
     "output_type": "execute_result"
    },
    {
     "data": {
      "image/png": "[encoded data removed]",
      "text/plain": [
       "<Figure size 640x480 with 2 Axes>"
      ]
     },
     "metadata": {},
     "output_type": "display_data"
    }
   ],
   "source": [
    "sns.heatmap(corr_mat)"
   ]
  },
  {
   "cell_type": "code",
   "execution_count": 70,
   "metadata": {},
   "outputs": [
    {
     "name": "stdout",
     "output_type": "stream",
     "text": [
      "      longitude  latitude  total_rooms  population  households  median_income  \\\n",
      "0       -122.05     37.37       3885.0      1537.0       606.0         6.6085   \n",
      "1       -118.30     34.26       1510.0       809.0       277.0         3.5990   \n",
      "2       -117.81     33.78       3589.0      1484.0       495.0         5.7934   \n",
      "3       -118.36     33.82         67.0        49.0        11.0         6.1359   \n",
      "4       -119.67     36.33       1241.0       850.0       237.0         2.9375   \n",
      "...         ...       ...          ...         ...         ...            ...   \n",
      "2995    -119.86     34.42       1450.0      1258.0       607.0         1.1790   \n",
      "2996    -118.14     34.06       5257.0      3496.0      1036.0         3.3906   \n",
      "2997    -119.70     36.30        956.0       693.0       220.0         2.2895   \n",
      "2998    -117.12     34.10         96.0        46.0        14.0         3.2708   \n",
      "2999    -119.63     34.42       1765.0       753.0       260.0         8.5608   \n",
      "\n",
      "      median_house_value  \n",
      "0               344700.0  \n",
      "1               176500.0  \n",
      "2               270500.0  \n",
      "3               330000.0  \n",
      "4                81700.0  \n",
      "...                  ...  \n",
      "2995            225000.0  \n",
      "2996            237200.0  \n",
      "2997             62000.0  \n",
      "2998            162500.0  \n",
      "2999            500001.0  \n",
      "\n",
      "[3000 rows x 7 columns]\n"
     ]
    }
   ],
   "source": [
    "df=df.drop([\"housing_median_age\",\"total_bedrooms\"],axis=1,inplace=False)\n",
    "print(df)"
   ]
  },
  {
   "cell_type": "code",
   "execution_count": 71,
   "metadata": {},
   "outputs": [
    {
     "data": {
      "text/html": [
       "<div>\n",
       "<style scoped>\n",
       "    .dataframe tbody tr th:only-of-type {\n",
       "        vertical-align: middle;\n",
       "    }\n",
       "\n",
       "    .dataframe tbody tr th {\n",
       "        vertical-align: top;\n",
       "    }\n",
       "\n",
       "    .dataframe thead th {\n",
       "        text-align: right;\n",
       "    }\n",
       "</style>\n",
       "<table border=\"1\" class=\"dataframe\">\n",
       "  <thead>\n",
       "    <tr style=\"text-align: right;\">\n",
       "      <th></th>\n",
       "      <th>longitude</th>\n",
       "      <th>latitude</th>\n",
       "      <th>total_rooms</th>\n",
       "      <th>population</th>\n",
       "      <th>households</th>\n",
       "      <th>median_income</th>\n",
       "      <th>median_house_value</th>\n",
       "    </tr>\n",
       "  </thead>\n",
       "  <tbody>\n",
       "    <tr>\n",
       "      <th>count</th>\n",
       "      <td>3000.000000</td>\n",
       "      <td>3000.00000</td>\n",
       "      <td>3000.000000</td>\n",
       "      <td>3000.000000</td>\n",
       "      <td>3000.00000</td>\n",
       "      <td>3000.000000</td>\n",
       "      <td>3000.00000</td>\n",
       "    </tr>\n",
       "    <tr>\n",
       "      <th>mean</th>\n",
       "      <td>-119.589200</td>\n",
       "      <td>35.63539</td>\n",
       "      <td>2599.578667</td>\n",
       "      <td>1402.798667</td>\n",
       "      <td>489.91200</td>\n",
       "      <td>3.807272</td>\n",
       "      <td>205846.27500</td>\n",
       "    </tr>\n",
       "    <tr>\n",
       "      <th>std</th>\n",
       "      <td>1.994936</td>\n",
       "      <td>2.12967</td>\n",
       "      <td>2155.593332</td>\n",
       "      <td>1030.543012</td>\n",
       "      <td>365.42271</td>\n",
       "      <td>1.854512</td>\n",
       "      <td>113119.68747</td>\n",
       "    </tr>\n",
       "    <tr>\n",
       "      <th>min</th>\n",
       "      <td>-124.180000</td>\n",
       "      <td>32.56000</td>\n",
       "      <td>6.000000</td>\n",
       "      <td>5.000000</td>\n",
       "      <td>2.00000</td>\n",
       "      <td>0.499900</td>\n",
       "      <td>22500.00000</td>\n",
       "    </tr>\n",
       "    <tr>\n",
       "      <th>25%</th>\n",
       "      <td>-121.810000</td>\n",
       "      <td>33.93000</td>\n",
       "      <td>1401.000000</td>\n",
       "      <td>780.000000</td>\n",
       "      <td>273.00000</td>\n",
       "      <td>2.544000</td>\n",
       "      <td>121200.00000</td>\n",
       "    </tr>\n",
       "    <tr>\n",
       "      <th>50%</th>\n",
       "      <td>-118.485000</td>\n",
       "      <td>34.27000</td>\n",
       "      <td>2106.000000</td>\n",
       "      <td>1155.000000</td>\n",
       "      <td>409.50000</td>\n",
       "      <td>3.487150</td>\n",
       "      <td>177650.00000</td>\n",
       "    </tr>\n",
       "    <tr>\n",
       "      <th>75%</th>\n",
       "      <td>-118.020000</td>\n",
       "      <td>37.69000</td>\n",
       "      <td>3129.000000</td>\n",
       "      <td>1742.750000</td>\n",
       "      <td>597.25000</td>\n",
       "      <td>4.656475</td>\n",
       "      <td>263975.00000</td>\n",
       "    </tr>\n",
       "    <tr>\n",
       "      <th>max</th>\n",
       "      <td>-114.490000</td>\n",
       "      <td>41.92000</td>\n",
       "      <td>30450.000000</td>\n",
       "      <td>11935.000000</td>\n",
       "      <td>4930.00000</td>\n",
       "      <td>15.000100</td>\n",
       "      <td>500001.00000</td>\n",
       "    </tr>\n",
       "  </tbody>\n",
       "</table>\n",
       "</div>"
      ],
      "text/plain": [
       "         longitude    latitude   total_rooms    population  households  \\\n",
       "count  3000.000000  3000.00000   3000.000000   3000.000000  3000.00000   \n",
       "mean   -119.589200    35.63539   2599.578667   1402.798667   489.91200   \n",
       "std       1.994936     2.12967   2155.593332   1030.543012   365.42271   \n",
       "min    -124.180000    32.56000      6.000000      5.000000     2.00000   \n",
       "25%    -121.810000    33.93000   1401.000000    780.000000   273.00000   \n",
       "50%    -118.485000    34.27000   2106.000000   1155.000000   409.50000   \n",
       "75%    -118.020000    37.69000   3129.000000   1742.750000   597.25000   \n",
       "max    -114.490000    41.92000  30450.000000  11935.000000  4930.00000   \n",
       "\n",
       "       median_income  median_house_value  \n",
       "count    3000.000000          3000.00000  \n",
       "mean        3.807272        205846.27500  \n",
       "std         1.854512        113119.68747  \n",
       "min         0.499900         22500.00000  \n",
       "25%         2.544000        121200.00000  \n",
       "50%         3.487150        177650.00000  \n",
       "75%         4.656475        263975.00000  \n",
       "max        15.000100        500001.00000  "
      ]
     },
     "execution_count": 71,
     "metadata": {},
     "output_type": "execute_result"
    }
   ],
   "source": [
    "df.describe()"
   ]
  },
  {
   "cell_type": "code",
   "execution_count": 72,
   "metadata": {},
   "outputs": [],
   "source": [
    "def detect_outliers(df, col_name, threshold=3):\n",
    "    mean = df[col_name].mean()\n",
    "    std_dev = df[col_name].std()\n",
    "    z_scores = [(x - mean) / std_dev for x in df[col_name]]\n",
    "    outlier_indices = [i for i, score in enumerate(z_scores) if abs(score) > threshold]\n",
    "    return outlier_indices"
   ]
  },
  {
   "cell_type": "code",
   "execution_count": 73,
   "metadata": {},
   "outputs": [],
   "source": [
    "outlier_ind=detect_outliers(df,\"total_rooms\",threshold=3)\n"
   ]
  },
  {
   "cell_type": "code",
   "execution_count": 74,
   "metadata": {},
   "outputs": [],
   "source": [
    "df=df.drop(df.index[outlier_ind])"
   ]
  },
  {
   "cell_type": "code",
   "execution_count": 75,
   "metadata": {},
   "outputs": [
    {
     "data": {
      "text/plain": [
       "<Axes: ylabel='total_rooms'>"
      ]
     },
     "execution_count": 75,
     "metadata": {},
     "output_type": "execute_result"
    },
    {
     "data": {
      "image/png": "[encoded data removed]",
      "text/plain": [
       "<Figure size 640x480 with 1 Axes>"
      ]
     },
     "metadata": {},
     "output_type": "display_data"
    }
   ],
   "source": [
    "sns.boxplot(df[\"total_rooms\"])\n"
   ]
  },
  {
   "cell_type": "code",
   "execution_count": 76,
   "metadata": {},
   "outputs": [],
   "source": [
    "# outlier_ind=detect_outliers(df,\"population\",threshold=3)\n",
    "# df=df.drop(df.index[outlier_ind])"
   ]
  },
  {
   "cell_type": "code",
   "execution_count": 77,
   "metadata": {},
   "outputs": [],
   "source": [
    "# sns.boxplot(df[\"population\"])"
   ]
  },
  {
   "cell_type": "code",
   "execution_count": 78,
   "metadata": {},
   "outputs": [],
   "source": [
    "outlier_ind=detect_outliers(df,\"median_house_value\",threshold=3)\n",
    "df=df.drop(df.index[outlier_ind])"
   ]
  },
  {
   "cell_type": "code",
   "execution_count": 79,
   "metadata": {},
   "outputs": [
    {
     "data": {
      "text/plain": [
       "<Axes: ylabel='median_house_value'>"
      ]
     },
     "execution_count": 79,
     "metadata": {},
     "output_type": "execute_result"
    },
    {
     "data": {
      "image/png": "[encoded data removed]",
      "text/plain": [
       "<Figure size 640x480 with 1 Axes>"
      ]
     },
     "metadata": {},
     "output_type": "display_data"
    }
   ],
   "source": [
    "sns.boxplot(df[\"median_house_value\"])"
   ]
  },
  {
   "cell_type": "code",
   "execution_count": 1,
   "metadata": {},
   "outputs": [
    {
     "ename": "NameError",
     "evalue": "name 'sns' is not defined",
     "output_type": "error",
     "traceback": [
      "\u001b[1;31m---------------------------------------------------------------------------\u001b[0m",
      "\u001b[1;31mNameError\u001b[0m                                 Traceback (most recent call last)",
      "Cell \u001b[1;32mIn[1], line 1\u001b[0m\n\u001b[1;32m----> 1\u001b[0m \u001b[43msns\u001b[49m\u001b[38;5;241m.\u001b[39mscatterplot(data\u001b[38;5;241m=\u001b[39mdf,x\u001b[38;5;241m=\u001b[39m\u001b[38;5;124m\"\u001b[39m\u001b[38;5;124mtotal_rooms\u001b[39m\u001b[38;5;124m\"\u001b[39m,y\u001b[38;5;241m=\u001b[39m\u001b[38;5;124m\"\u001b[39m\u001b[38;5;124mmedian_house_value\u001b[39m\u001b[38;5;124m\"\u001b[39m,hue\u001b[38;5;241m=\u001b[39m\u001b[38;5;124m\"\u001b[39m\u001b[38;5;124mmedian_income\u001b[39m\u001b[38;5;124m\"\u001b[39m)\n",
      "\u001b[1;31mNameError\u001b[0m: name 'sns' is not defined"
     ]
    }
   ],
   "source": [
    "sns.scatterplot(data=df,x=\"total_rooms\",y=\"median_house_value\",hue=\"median_income\")"
   ]
  },
  {
   "cell_type": "code",
   "execution_count": 81,
   "metadata": {},
   "outputs": [
    {
     "data": {
      "text/html": [
       "<div>\n",
       "<style scoped>\n",
       "    .dataframe tbody tr th:only-of-type {\n",
       "        vertical-align: middle;\n",
       "    }\n",
       "\n",
       "    .dataframe tbody tr th {\n",
       "        vertical-align: top;\n",
       "    }\n",
       "\n",
       "    .dataframe thead th {\n",
       "        text-align: right;\n",
       "    }\n",
       "</style>\n",
       "<table border=\"1\" class=\"dataframe\">\n",
       "  <thead>\n",
       "    <tr style=\"text-align: right;\">\n",
       "      <th></th>\n",
       "      <th>longitude</th>\n",
       "      <th>latitude</th>\n",
       "      <th>total_rooms</th>\n",
       "      <th>population</th>\n",
       "      <th>households</th>\n",
       "      <th>median_income</th>\n",
       "      <th>median_house_value</th>\n",
       "    </tr>\n",
       "  </thead>\n",
       "  <tbody>\n",
       "    <tr>\n",
       "      <th>count</th>\n",
       "      <td>2949.000000</td>\n",
       "      <td>2949.000000</td>\n",
       "      <td>2949.000000</td>\n",
       "      <td>2949.000000</td>\n",
       "      <td>2949.000000</td>\n",
       "      <td>2949.000000</td>\n",
       "      <td>2949.000000</td>\n",
       "    </tr>\n",
       "    <tr>\n",
       "      <th>mean</th>\n",
       "      <td>-119.606328</td>\n",
       "      <td>35.648457</td>\n",
       "      <td>2411.546965</td>\n",
       "      <td>1331.380129</td>\n",
       "      <td>462.577484</td>\n",
       "      <td>3.782559</td>\n",
       "      <td>204895.666328</td>\n",
       "    </tr>\n",
       "    <tr>\n",
       "      <th>std</th>\n",
       "      <td>1.992801</td>\n",
       "      <td>2.129992</td>\n",
       "      <td>1493.566992</td>\n",
       "      <td>837.806072</td>\n",
       "      <td>279.740452</td>\n",
       "      <td>1.845964</td>\n",
       "      <td>112742.551371</td>\n",
       "    </tr>\n",
       "    <tr>\n",
       "      <th>min</th>\n",
       "      <td>-124.180000</td>\n",
       "      <td>32.560000</td>\n",
       "      <td>6.000000</td>\n",
       "      <td>5.000000</td>\n",
       "      <td>2.000000</td>\n",
       "      <td>0.499900</td>\n",
       "      <td>22500.000000</td>\n",
       "    </tr>\n",
       "    <tr>\n",
       "      <th>25%</th>\n",
       "      <td>-121.830000</td>\n",
       "      <td>33.940000</td>\n",
       "      <td>1388.000000</td>\n",
       "      <td>774.000000</td>\n",
       "      <td>272.000000</td>\n",
       "      <td>2.537400</td>\n",
       "      <td>120400.000000</td>\n",
       "    </tr>\n",
       "    <tr>\n",
       "      <th>50%</th>\n",
       "      <td>-118.500000</td>\n",
       "      <td>34.280000</td>\n",
       "      <td>2085.000000</td>\n",
       "      <td>1143.000000</td>\n",
       "      <td>405.000000</td>\n",
       "      <td>3.458300</td>\n",
       "      <td>177000.000000</td>\n",
       "    </tr>\n",
       "    <tr>\n",
       "      <th>75%</th>\n",
       "      <td>-118.030000</td>\n",
       "      <td>37.700000</td>\n",
       "      <td>3057.000000</td>\n",
       "      <td>1702.000000</td>\n",
       "      <td>582.000000</td>\n",
       "      <td>4.625000</td>\n",
       "      <td>262300.000000</td>\n",
       "    </tr>\n",
       "    <tr>\n",
       "      <th>max</th>\n",
       "      <td>-114.490000</td>\n",
       "      <td>41.920000</td>\n",
       "      <td>9020.000000</td>\n",
       "      <td>11139.000000</td>\n",
       "      <td>2019.000000</td>\n",
       "      <td>15.000100</td>\n",
       "      <td>500001.000000</td>\n",
       "    </tr>\n",
       "  </tbody>\n",
       "</table>\n",
       "</div>"
      ],
      "text/plain": [
       "         longitude     latitude  total_rooms    population   households  \\\n",
       "count  2949.000000  2949.000000  2949.000000   2949.000000  2949.000000   \n",
       "mean   -119.606328    35.648457  2411.546965   1331.380129   462.577484   \n",
       "std       1.992801     2.129992  1493.566992    837.806072   279.740452   \n",
       "min    -124.180000    32.560000     6.000000      5.000000     2.000000   \n",
       "25%    -121.830000    33.940000  1388.000000    774.000000   272.000000   \n",
       "50%    -118.500000    34.280000  2085.000000   1143.000000   405.000000   \n",
       "75%    -118.030000    37.700000  3057.000000   1702.000000   582.000000   \n",
       "max    -114.490000    41.920000  9020.000000  11139.000000  2019.000000   \n",
       "\n",
       "       median_income  median_house_value  \n",
       "count    2949.000000         2949.000000  \n",
       "mean        3.782559       204895.666328  \n",
       "std         1.845964       112742.551371  \n",
       "min         0.499900        22500.000000  \n",
       "25%         2.537400       120400.000000  \n",
       "50%         3.458300       177000.000000  \n",
       "75%         4.625000       262300.000000  \n",
       "max        15.000100       500001.000000  "
      ]
     },
     "execution_count": 81,
     "metadata": {},
     "output_type": "execute_result"
    }
   ],
   "source": [
    "df.describe()"
   ]
  },
  {
   "cell_type": "code",
   "execution_count": 82,
   "metadata": {},
   "outputs": [],
   "source": [
    "features = df.iloc[:,:-1]\n",
    "predictors = df.iloc[:,-1:]"
   ]
  },
  {
   "cell_type": "code",
   "execution_count": 83,
   "metadata": {},
   "outputs": [],
   "source": [
    "# Perform feature scaling\n",
    "from sklearn.preprocessing import StandardScaler\n",
    "scaler = StandardScaler() #Used to perform standardization of the features\n",
    "features_scaled = scaler.fit_transform(features)\n",
    "features_scaled = pd.DataFrame(features_scaled, columns = features.columns)"
   ]
  },
  {
   "cell_type": "markdown",
   "metadata": {},
   "source": [
    "<h4>Liniar Regression Model</h4>"
   ]
  },
  {
   "cell_type": "code",
   "execution_count": 84,
   "metadata": {},
   "outputs": [],
   "source": [
    "from sklearn.model_selection import train_test_split\n",
    "X_train, X_test, y_train, y_test = train_test_split(features_scaled,predictors,test_size=0.2,random_state=42,shuffle=True)"
   ]
  },
  {
   "cell_type": "code",
   "execution_count": 85,
   "metadata": {},
   "outputs": [],
   "source": [
    "from sklearn.linear_model import LinearRegression\n",
    "model = LinearRegression()\n",
    "model.fit(X_train,y_train)\n",
    "y_pred_train = model.predict(X_train)\n",
    "y_pred = model.predict(X_test)"
   ]
  },
  {
   "cell_type": "code",
   "execution_count": 86,
   "metadata": {},
   "outputs": [],
   "source": [
    "from sklearn.metrics import mean_absolute_error, mean_squared_error,r2_score\n",
    "mse_train = mean_squared_error(y_train, y_pred_train)\n",
    "mae_train = mean_absolute_error(y_train, y_pred_train)\n",
    "r2 = r2_score(y_train, y_pred_train)\n"
   ]
  },
  {
   "cell_type": "code",
   "execution_count": 87,
   "metadata": {},
   "outputs": [
    {
     "name": "stdout",
     "output_type": "stream",
     "text": [
      "5162577315.777492 52216.77620582278 0.6037674111289792 "
     ]
    }
   ],
   "source": [
    "print(mse_train,mae_train,r2,end=\" \")"
   ]
  },
  {
   "cell_type": "code",
   "execution_count": 88,
   "metadata": {},
   "outputs": [],
   "source": [
    "\n",
    "mse_test = mean_squared_error(y_test,y_pred)\n",
    "mae_test = mean_absolute_error(y_test,y_pred)\n",
    "r2 = r2_score(y_test,y_pred)\n"
   ]
  },
  {
   "cell_type": "code",
   "execution_count": 89,
   "metadata": {},
   "outputs": [
    {
     "name": "stdout",
     "output_type": "stream",
     "text": [
      "4838264171.025624 50019.208876442615 0.5758278891576794 "
     ]
    }
   ],
   "source": [
    "print(mse_test, mae_test, r2, end=\" \")"
   ]
  },
  {
   "cell_type": "markdown",
   "metadata": {},
   "source": [
    "<h4>KNN Model</h4>"
   ]
  },
  {
   "cell_type": "code",
   "execution_count": 90,
   "metadata": {},
   "outputs": [],
   "source": [
    "from sklearn.neighbors import KNeighborsRegressor\n",
    "model = knn = KNeighborsRegressor(n_neighbors=7) #K=7\n",
    "model.fit(X_train, y_train) \n",
    "y_pred_train = model.predict(X_train) \n",
    "y_pred = model.predict(X_test) "
   ]
  },
  {
   "cell_type": "code",
   "execution_count": 91,
   "metadata": {},
   "outputs": [
    {
     "data": {
      "image/png": "[encoded data removed]",
      "text/plain": [
       "<Figure size 640x480 with 1 Axes>"
      ]
     },
     "metadata": {},
     "output_type": "display_data"
    }
   ],
   "source": [
    "# Hyperparameter tuning\n",
    "k_values = list(range(1, 20)) #k ranges between 1 and 19\n",
    "model_best = KNeighborsRegressor() #Notice that the value of K is not inserted here\n",
    "r2_values, mse_values = [], []\n",
    "for k in k_values:\n",
    "  model_best.set_params(n_neighbors=k)\n",
    "  model_best.fit(X_train, y_train)\n",
    "  y_pred_current = model_best.predict(X_train)\n",
    "  r2_current = r2_score(y_train, y_pred_current)\n",
    "  r2_values.append(r2_current)\n",
    "  mse_current = mean_squared_error(y_train, y_pred_current)\n",
    "  mse_values.append(mse_current)\n",
    "\n",
    "\n",
    "# Plot the variation of R2 for various values of K\n",
    "plt.plot(k_values, r2_values)\n",
    "plt.title(\"Train R2 score vs K\")\n",
    "plt.xlabel(\"K\")\n",
    "plt.ylabel(\"Train R2 score\")\n",
    "plt.xticks(k_values)\n",
    "plt.grid()\n",
    "plt.show()"
   ]
  },
  {
   "cell_type": "code",
   "execution_count": 92,
   "metadata": {},
   "outputs": [
    {
     "data": {
      "image/png": "[encoded data removed]",
      "text/plain": [
       "<Figure size 640x480 with 1 Axes>"
      ]
     },
     "metadata": {},
     "output_type": "display_data"
    }
   ],
   "source": [
    "plt.plot(k_values, mse_values)\n",
    "plt.title(\"Train MSE score vs K\")\n",
    "plt.xlabel(\"K\")\n",
    "plt.ylabel(\"Train MSE score\")\n",
    "plt.xticks(k_values)\n",
    "plt.grid()\n",
    "plt.show()"
   ]
  },
  {
   "cell_type": "code",
   "execution_count": 93,
   "metadata": {},
   "outputs": [
    {
     "name": "stdout",
     "output_type": "stream",
     "text": [
      "Train R2 score:  0.7424910834632039\n",
      "Test R2 score:  0.6254994184709306\n"
     ]
    }
   ],
   "source": [
    "r2_best_train = r2_score(y_train, y_pred_train)\n",
    "r2_best_test = r2_score(y_test, y_pred)\n",
    "print('Train R2 score: ', r2_best_train)\n",
    "print(\"Test R2 score: \",r2_best_test)"
   ]
  }
 ],
 "metadata": {
  "kernelspec": {
   "display_name": "Python 3",
   "language": "python",
   "name": "python3"
  },
  "language_info": {
   "codemirror_mode": {
    "name": "ipython",
    "version": 3
   },
   "file_extension": ".py",
   "mimetype": "text/x-python",
   "name": "python",
   "nbconvert_exporter": "python",
   "pygments_lexer": "ipython3",
   "version": "3.12.3"
  }
 },
 "nbformat": 4,
 "nbformat_minor": 2
}
